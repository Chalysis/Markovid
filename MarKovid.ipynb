{
  "cells": [
    {
      "cell_type": "markdown",
      "metadata": {
        "id": "view-in-github",
        "colab_type": "text"
      },
      "source": [
        "<a href=\"https://colab.research.google.com/github/Chalysis/Markovid/blob/main/MarKovid.ipynb\" target=\"_parent\"><img src=\"https://colab.research.google.com/assets/colab-badge.svg\" alt=\"Open In Colab\"/></a>"
      ]
    },
    {
      "cell_type": "markdown",
      "metadata": {
        "id": "lRTuKwsFzzpi"
      },
      "source": [
        "# MARKOVID\n",
        "\n",
        "\n",
        "\n",
        "> Modeling and Simulation                                    \n",
        " *February 2022*\n",
        "\n",
        "---\n",
        "\n",
        "\n",
        "Project partners:\n",
        "*   Ibeth Escobedo Rios\n",
        "*   Jazmín López Chacón\n",
        "*   Luis David Huante García\n",
        "\n",
        "Professor: Víctor de la Luz\n",
        "\n",
        "![](https://raw.githubusercontent.com/Chalysis/Markovid/main/cadena_probs.png)\n",
        "\n"
      ]
    },
    {
      "cell_type": "code",
      "execution_count": 3,
      "metadata": {
        "id": "uM-eg833iu7q",
        "colab": {
          "base_uri": "https://localhost:8080/"
        },
        "outputId": "4283037f-c919-4b58-c0b1-4fa195e3df7d"
      },
      "outputs": [
        {
          "output_type": "stream",
          "name": "stdout",
          "text": [
            "--2022-02-08 01:43:57--  https://docs.google.com/uc?export=download&confirm=GxgC&id=1-KDj7eWXJ63X4lqgm1BJdFEIbF19xdrw\n",
            "Resolving docs.google.com (docs.google.com)... 74.125.26.139, 74.125.26.102, 74.125.26.138, ...\n",
            "Connecting to docs.google.com (docs.google.com)|74.125.26.139|:443... connected.\n",
            "HTTP request sent, awaiting response... 302 Moved Temporarily\n",
            "Location: https://doc-0g-b8-docs.googleusercontent.com/docs/securesc/gimklnaaaln1c0a1qsmnc73g48jglhl3/d1vjbi4l78m6gitji6pel4dvovnrdjs7/1644284625000/17182762795007801148/16519375480611114254Z/1-KDj7eWXJ63X4lqgm1BJdFEIbF19xdrw?e=download [following]\n",
            "--2022-02-08 01:43:57--  https://doc-0g-b8-docs.googleusercontent.com/docs/securesc/gimklnaaaln1c0a1qsmnc73g48jglhl3/d1vjbi4l78m6gitji6pel4dvovnrdjs7/1644284625000/17182762795007801148/16519375480611114254Z/1-KDj7eWXJ63X4lqgm1BJdFEIbF19xdrw?e=download\n",
            "Resolving doc-0g-b8-docs.googleusercontent.com (doc-0g-b8-docs.googleusercontent.com)... 173.194.215.132, 2607:f8b0:400c:c0c::84\n",
            "Connecting to doc-0g-b8-docs.googleusercontent.com (doc-0g-b8-docs.googleusercontent.com)|173.194.215.132|:443... connected.\n",
            "HTTP request sent, awaiting response... 302 Found\n",
            "Location: https://docs.google.com/nonceSigner?nonce=je5c1qtormt46&continue=https://doc-0g-b8-docs.googleusercontent.com/docs/securesc/gimklnaaaln1c0a1qsmnc73g48jglhl3/d1vjbi4l78m6gitji6pel4dvovnrdjs7/1644284625000/17182762795007801148/16519375480611114254Z/1-KDj7eWXJ63X4lqgm1BJdFEIbF19xdrw?e%3Ddownload&hash=smmo2njf4eeepfbfasvjb0i0091oug8j [following]\n",
            "--2022-02-08 01:43:57--  https://docs.google.com/nonceSigner?nonce=je5c1qtormt46&continue=https://doc-0g-b8-docs.googleusercontent.com/docs/securesc/gimklnaaaln1c0a1qsmnc73g48jglhl3/d1vjbi4l78m6gitji6pel4dvovnrdjs7/1644284625000/17182762795007801148/16519375480611114254Z/1-KDj7eWXJ63X4lqgm1BJdFEIbF19xdrw?e%3Ddownload&hash=smmo2njf4eeepfbfasvjb0i0091oug8j\n",
            "Connecting to docs.google.com (docs.google.com)|74.125.26.139|:443... connected.\n",
            "HTTP request sent, awaiting response... 302 Found\n",
            "Location: https://doc-0g-b8-docs.googleusercontent.com/docs/securesc/gimklnaaaln1c0a1qsmnc73g48jglhl3/d1vjbi4l78m6gitji6pel4dvovnrdjs7/1644284625000/17182762795007801148/16519375480611114254Z/1-KDj7eWXJ63X4lqgm1BJdFEIbF19xdrw?e=download&nonce=je5c1qtormt46&user=16519375480611114254Z&hash=4ce0hfvvg9b9atgn777nbonhaa8173pt [following]\n",
            "--2022-02-08 01:43:57--  https://doc-0g-b8-docs.googleusercontent.com/docs/securesc/gimklnaaaln1c0a1qsmnc73g48jglhl3/d1vjbi4l78m6gitji6pel4dvovnrdjs7/1644284625000/17182762795007801148/16519375480611114254Z/1-KDj7eWXJ63X4lqgm1BJdFEIbF19xdrw?e=download&nonce=je5c1qtormt46&user=16519375480611114254Z&hash=4ce0hfvvg9b9atgn777nbonhaa8173pt\n",
            "Connecting to doc-0g-b8-docs.googleusercontent.com (doc-0g-b8-docs.googleusercontent.com)|173.194.215.132|:443... connected.\n",
            "HTTP request sent, awaiting response... 200 OK\n",
            "Length: 153466804 (146M) [text/csv]\n",
            "Saving to: ‘theDataset.csv’\n",
            "\n",
            "theDataset.csv      100%[===================>] 146.36M   151MB/s    in 1.0s    \n",
            "\n",
            "2022-02-08 01:43:58 (151 MB/s) - ‘theDataset.csv’ saved [153466804/153466804]\n",
            "\n"
          ]
        }
      ],
      "source": [
        "# Download dataset\n",
        "! wget --load-cookies /tmp/cookies.txt \"https://docs.google.com/uc?export=download&confirm=$(wget --quiet --save-cookies /tmp/cookies.txt --keep-session-cookies --no-check-certificate 'https://docs.google.com/uc?export=download&id=1-KDj7eWXJ63X4lqgm1BJdFEIbF19xdrw' -O- | sed -rn 's/.*confirm=([0-9A-Za-z_]+).*/\\1\\n/p')&id=1-KDj7eWXJ63X4lqgm1BJdFEIbF19xdrw\" -O theDataset.csv && rm -rf /tmp/cookies.txt\n"
      ]
    },
    {
      "cell_type": "code",
      "execution_count": 33,
      "metadata": {
        "id": "i4T3BfxY7DQd"
      },
      "outputs": [],
      "source": [
        "#Required libraries\n",
        "import matplotlib.pyplot as plt\n",
        "import numpy as np\n",
        "import pandas as pd\n",
        "import seaborn as sns\n",
        "import collections\n",
        "import math"
      ]
    },
    {
      "cell_type": "markdown",
      "metadata": {
        "id": "x9E9kzTEj6XF"
      },
      "source": [
        "The first step is to load the  data located in the csv downloaded earlier."
      ]
    },
    {
      "cell_type": "code",
      "execution_count": 5,
      "metadata": {
        "id": "Ay56mFH0hlYK"
      },
      "outputs": [],
      "source": [
        "cols = ['FECHA_ACTUALIZACION', 'ID_REGISTRO',  'TIPO_PACIENTE', 'FECHA_INGRESO', \n",
        "        'FECHA_SINTOMAS', 'FECHA_DEF', 'CLASIFICACION_FINAL']"
      ]
    },
    {
      "cell_type": "code",
      "execution_count": 6,
      "metadata": {
        "colab": {
          "base_uri": "https://localhost:8080/",
          "height": 424
        },
        "id": "WPDOxlrB9Cj9",
        "outputId": "473c439f-992e-41ee-b7d3-b9be0024fdd7"
      },
      "outputs": [
        {
          "output_type": "execute_result",
          "data": {
            "text/html": [
              "\n",
              "  <div id=\"df-2f01059c-e2a5-44da-9b90-4c9008310536\">\n",
              "    <div class=\"colab-df-container\">\n",
              "      <div>\n",
              "<style scoped>\n",
              "    .dataframe tbody tr th:only-of-type {\n",
              "        vertical-align: middle;\n",
              "    }\n",
              "\n",
              "    .dataframe tbody tr th {\n",
              "        vertical-align: top;\n",
              "    }\n",
              "\n",
              "    .dataframe thead th {\n",
              "        text-align: right;\n",
              "    }\n",
              "</style>\n",
              "<table border=\"1\" class=\"dataframe\">\n",
              "  <thead>\n",
              "    <tr style=\"text-align: right;\">\n",
              "      <th></th>\n",
              "      <th>FECHA_ACTUALIZACION</th>\n",
              "      <th>ID_REGISTRO</th>\n",
              "      <th>TIPO_PACIENTE</th>\n",
              "      <th>FECHA_INGRESO</th>\n",
              "      <th>FECHA_SINTOMAS</th>\n",
              "      <th>FECHA_DEF</th>\n",
              "      <th>CLASIFICACION_FINAL</th>\n",
              "    </tr>\n",
              "  </thead>\n",
              "  <tbody>\n",
              "    <tr>\n",
              "      <th>0</th>\n",
              "      <td>2021-12-12</td>\n",
              "      <td>zz7202</td>\n",
              "      <td>1</td>\n",
              "      <td>2021-01-13</td>\n",
              "      <td>2021-01-13</td>\n",
              "      <td>9999-99-99</td>\n",
              "      <td>7</td>\n",
              "    </tr>\n",
              "    <tr>\n",
              "      <th>1</th>\n",
              "      <td>2021-12-12</td>\n",
              "      <td>z405fd</td>\n",
              "      <td>1</td>\n",
              "      <td>2021-01-25</td>\n",
              "      <td>2021-01-17</td>\n",
              "      <td>9999-99-99</td>\n",
              "      <td>7</td>\n",
              "    </tr>\n",
              "    <tr>\n",
              "      <th>2</th>\n",
              "      <td>2021-12-12</td>\n",
              "      <td>z26b82</td>\n",
              "      <td>1</td>\n",
              "      <td>2021-01-14</td>\n",
              "      <td>2021-01-10</td>\n",
              "      <td>9999-99-99</td>\n",
              "      <td>7</td>\n",
              "    </tr>\n",
              "    <tr>\n",
              "      <th>3</th>\n",
              "      <td>2021-12-12</td>\n",
              "      <td>z23d9d</td>\n",
              "      <td>1</td>\n",
              "      <td>2021-01-05</td>\n",
              "      <td>2021-01-05</td>\n",
              "      <td>9999-99-99</td>\n",
              "      <td>6</td>\n",
              "    </tr>\n",
              "    <tr>\n",
              "      <th>4</th>\n",
              "      <td>2021-12-12</td>\n",
              "      <td>zze974</td>\n",
              "      <td>1</td>\n",
              "      <td>2021-02-28</td>\n",
              "      <td>2021-02-20</td>\n",
              "      <td>9999-99-99</td>\n",
              "      <td>7</td>\n",
              "    </tr>\n",
              "    <tr>\n",
              "      <th>...</th>\n",
              "      <td>...</td>\n",
              "      <td>...</td>\n",
              "      <td>...</td>\n",
              "      <td>...</td>\n",
              "      <td>...</td>\n",
              "      <td>...</td>\n",
              "      <td>...</td>\n",
              "    </tr>\n",
              "    <tr>\n",
              "      <th>7627395</th>\n",
              "      <td>2022-01-19</td>\n",
              "      <td>68f3cd</td>\n",
              "      <td>1</td>\n",
              "      <td>2021-05-28</td>\n",
              "      <td>2021-05-28</td>\n",
              "      <td>9999-99-99</td>\n",
              "      <td>7</td>\n",
              "    </tr>\n",
              "    <tr>\n",
              "      <th>7627396</th>\n",
              "      <td>2022-01-19</td>\n",
              "      <td>78dc97</td>\n",
              "      <td>1</td>\n",
              "      <td>2021-05-19</td>\n",
              "      <td>2021-05-15</td>\n",
              "      <td>2021-05-19</td>\n",
              "      <td>3</td>\n",
              "    </tr>\n",
              "    <tr>\n",
              "      <th>7627397</th>\n",
              "      <td>2022-01-19</td>\n",
              "      <td>7604dc</td>\n",
              "      <td>1</td>\n",
              "      <td>2021-01-10</td>\n",
              "      <td>2021-01-10</td>\n",
              "      <td>9999-99-99</td>\n",
              "      <td>3</td>\n",
              "    </tr>\n",
              "    <tr>\n",
              "      <th>7627398</th>\n",
              "      <td>2022-01-19</td>\n",
              "      <td>61d4a7</td>\n",
              "      <td>1</td>\n",
              "      <td>2021-01-10</td>\n",
              "      <td>2021-01-10</td>\n",
              "      <td>9999-99-99</td>\n",
              "      <td>3</td>\n",
              "    </tr>\n",
              "    <tr>\n",
              "      <th>7627399</th>\n",
              "      <td>2022-01-19</td>\n",
              "      <td>cb545e</td>\n",
              "      <td>1</td>\n",
              "      <td>2021-05-28</td>\n",
              "      <td>2021-05-28</td>\n",
              "      <td>9999-99-99</td>\n",
              "      <td>7</td>\n",
              "    </tr>\n",
              "  </tbody>\n",
              "</table>\n",
              "<p>7627400 rows × 7 columns</p>\n",
              "</div>\n",
              "      <button class=\"colab-df-convert\" onclick=\"convertToInteractive('df-2f01059c-e2a5-44da-9b90-4c9008310536')\"\n",
              "              title=\"Convert this dataframe to an interactive table.\"\n",
              "              style=\"display:none;\">\n",
              "        \n",
              "  <svg xmlns=\"http://www.w3.org/2000/svg\" height=\"24px\"viewBox=\"0 0 24 24\"\n",
              "       width=\"24px\">\n",
              "    <path d=\"M0 0h24v24H0V0z\" fill=\"none\"/>\n",
              "    <path d=\"M18.56 5.44l.94 2.06.94-2.06 2.06-.94-2.06-.94-.94-2.06-.94 2.06-2.06.94zm-11 1L8.5 8.5l.94-2.06 2.06-.94-2.06-.94L8.5 2.5l-.94 2.06-2.06.94zm10 10l.94 2.06.94-2.06 2.06-.94-2.06-.94-.94-2.06-.94 2.06-2.06.94z\"/><path d=\"M17.41 7.96l-1.37-1.37c-.4-.4-.92-.59-1.43-.59-.52 0-1.04.2-1.43.59L10.3 9.45l-7.72 7.72c-.78.78-.78 2.05 0 2.83L4 21.41c.39.39.9.59 1.41.59.51 0 1.02-.2 1.41-.59l7.78-7.78 2.81-2.81c.8-.78.8-2.07 0-2.86zM5.41 20L4 18.59l7.72-7.72 1.47 1.35L5.41 20z\"/>\n",
              "  </svg>\n",
              "      </button>\n",
              "      \n",
              "  <style>\n",
              "    .colab-df-container {\n",
              "      display:flex;\n",
              "      flex-wrap:wrap;\n",
              "      gap: 12px;\n",
              "    }\n",
              "\n",
              "    .colab-df-convert {\n",
              "      background-color: #E8F0FE;\n",
              "      border: none;\n",
              "      border-radius: 50%;\n",
              "      cursor: pointer;\n",
              "      display: none;\n",
              "      fill: #1967D2;\n",
              "      height: 32px;\n",
              "      padding: 0 0 0 0;\n",
              "      width: 32px;\n",
              "    }\n",
              "\n",
              "    .colab-df-convert:hover {\n",
              "      background-color: #E2EBFA;\n",
              "      box-shadow: 0px 1px 2px rgba(60, 64, 67, 0.3), 0px 1px 3px 1px rgba(60, 64, 67, 0.15);\n",
              "      fill: #174EA6;\n",
              "    }\n",
              "\n",
              "    [theme=dark] .colab-df-convert {\n",
              "      background-color: #3B4455;\n",
              "      fill: #D2E3FC;\n",
              "    }\n",
              "\n",
              "    [theme=dark] .colab-df-convert:hover {\n",
              "      background-color: #434B5C;\n",
              "      box-shadow: 0px 1px 3px 1px rgba(0, 0, 0, 0.15);\n",
              "      filter: drop-shadow(0px 1px 2px rgba(0, 0, 0, 0.3));\n",
              "      fill: #FFFFFF;\n",
              "    }\n",
              "  </style>\n",
              "\n",
              "      <script>\n",
              "        const buttonEl =\n",
              "          document.querySelector('#df-2f01059c-e2a5-44da-9b90-4c9008310536 button.colab-df-convert');\n",
              "        buttonEl.style.display =\n",
              "          google.colab.kernel.accessAllowed ? 'block' : 'none';\n",
              "\n",
              "        async function convertToInteractive(key) {\n",
              "          const element = document.querySelector('#df-2f01059c-e2a5-44da-9b90-4c9008310536');\n",
              "          const dataTable =\n",
              "            await google.colab.kernel.invokeFunction('convertToInteractive',\n",
              "                                                     [key], {});\n",
              "          if (!dataTable) return;\n",
              "\n",
              "          const docLinkHtml = 'Like what you see? Visit the ' +\n",
              "            '<a target=\"_blank\" href=https://colab.research.google.com/notebooks/data_table.ipynb>data table notebook</a>'\n",
              "            + ' to learn more about interactive tables.';\n",
              "          element.innerHTML = '';\n",
              "          dataTable['output_type'] = 'display_data';\n",
              "          await google.colab.output.renderOutput(dataTable, element);\n",
              "          const docLink = document.createElement('div');\n",
              "          docLink.innerHTML = docLinkHtml;\n",
              "          element.appendChild(docLink);\n",
              "        }\n",
              "      </script>\n",
              "    </div>\n",
              "  </div>\n",
              "  "
            ],
            "text/plain": [
              "        FECHA_ACTUALIZACION ID_REGISTRO  ...   FECHA_DEF CLASIFICACION_FINAL\n",
              "0                2021-12-12      zz7202  ...  9999-99-99                   7\n",
              "1                2021-12-12      z405fd  ...  9999-99-99                   7\n",
              "2                2021-12-12      z26b82  ...  9999-99-99                   7\n",
              "3                2021-12-12      z23d9d  ...  9999-99-99                   6\n",
              "4                2021-12-12      zze974  ...  9999-99-99                   7\n",
              "...                     ...         ...  ...         ...                 ...\n",
              "7627395          2022-01-19      68f3cd  ...  9999-99-99                   7\n",
              "7627396          2022-01-19      78dc97  ...  2021-05-19                   3\n",
              "7627397          2022-01-19      7604dc  ...  9999-99-99                   3\n",
              "7627398          2022-01-19      61d4a7  ...  9999-99-99                   3\n",
              "7627399          2022-01-19      cb545e  ...  9999-99-99                   7\n",
              "\n",
              "[7627400 rows x 7 columns]"
            ]
          },
          "metadata": {},
          "execution_count": 6
        }
      ],
      "source": [
        "covidato = pd.read_csv('/content/theDataset.csv', usecols=cols, compression='zip'); covidato"
      ]
    },
    {
      "cell_type": "code",
      "execution_count": 7,
      "metadata": {
        "colab": {
          "base_uri": "https://localhost:8080/"
        },
        "id": "Y89h4VCF9gkC",
        "outputId": "ef4ba359-5293-4cbd-90e3-9234e93eea72"
      },
      "outputs": [
        {
          "output_type": "stream",
          "name": "stdout",
          "text": [
            "<class 'pandas.core.frame.DataFrame'>\n",
            "RangeIndex: 7627400 entries, 0 to 7627399\n",
            "Data columns (total 7 columns):\n",
            " #   Column               Dtype \n",
            "---  ------               ----- \n",
            " 0   FECHA_ACTUALIZACION  object\n",
            " 1   ID_REGISTRO          object\n",
            " 2   TIPO_PACIENTE        int64 \n",
            " 3   FECHA_INGRESO        object\n",
            " 4   FECHA_SINTOMAS       object\n",
            " 5   FECHA_DEF            object\n",
            " 6   CLASIFICACION_FINAL  int64 \n",
            "dtypes: int64(2), object(5)\n",
            "memory usage: 407.3+ MB\n"
          ]
        }
      ],
      "source": [
        "#We proceed to review the structure.\n",
        "covidato.info()"
      ]
    },
    {
      "cell_type": "markdown",
      "metadata": {
        "id": "FsvE4pFck_iP"
      },
      "source": [
        "# Model Structure\n",
        "To make the chain, we first need to define the states. After a review, the states are as follows:\n",
        "* Symptomatic (S)      (Sintomático)\n",
        "* Negative (N)         (Negativo)\n",
        "* Positive (P)         (Positivo)\n",
        "* Hospitalized (H)     (Hospitalizado)\n",
        "* Deceased (D)         (Difunto)\n",
        "\n",
        "In order to be able to see the behavior of these states correctly, it is necessary to make the separations."
      ]
    },
    {
      "cell_type": "code",
      "execution_count": 8,
      "metadata": {
        "id": "kEkZlt0Q_BUi"
      },
      "outputs": [],
      "source": [
        "#Sets\n",
        "neg = covidato[covidato.CLASIFICACION_FINAL == 7] #Negativa\n",
        "pos = covidato[covidato.CLASIFICACION_FINAL.isin([1,2,3])] # Positiva\n",
        "hos = covidato[(covidato.TIPO_PACIENTE == 2)] #Hospitalizada\n",
        "dif = covidato[covidato.FECHA_DEF != \"9999-99-99\"] #Difunta"
      ]
    },
    {
      "cell_type": "markdown",
      "metadata": {
        "id": "N5at_H9YoCNu"
      },
      "source": [
        "What follows is to consider the intersections between two sets."
      ]
    },
    {
      "cell_type": "code",
      "execution_count": 9,
      "metadata": {
        "id": "oIYCSk8wrveG"
      },
      "outputs": [],
      "source": [
        "### ######## ###\n",
        "### NEGATIVE ###\n",
        "### ######## ###\n",
        "# People who have had one negative and one positive result\n",
        "pos_neg = neg[neg.ID_REGISTRO.isin(pos.ID_REGISTRO)]\n",
        "# People who have been hospitalized and do not have COVID\n",
        "hos_neg = hos[hos.ID_REGISTRO.isin(neg.ID_REGISTRO)]"
      ]
    },
    {
      "cell_type": "code",
      "execution_count": 10,
      "metadata": {
        "id": "ID6XMmQEoB3C"
      },
      "outputs": [],
      "source": [
        "### ######## ###\n",
        "### POSITIVE ###\n",
        "### ######## ###\n",
        "# People who have been hospitalized and have COVID\n",
        "hos_pos = hos[hos.ID_REGISTRO.isin(pos.ID_REGISTRO)]\n",
        "#Deceased persons who suffered from covid\n",
        "dif_pos = dif[dif.ID_REGISTRO.isin(pos.ID_REGISTRO)]"
      ]
    },
    {
      "cell_type": "code",
      "execution_count": 11,
      "metadata": {
        "colab": {
          "base_uri": "https://localhost:8080/",
          "height": 488
        },
        "id": "b9R1JJl4wcih",
        "outputId": "1e081c53-406a-4044-fbc0-2533e1de3f16"
      },
      "outputs": [
        {
          "output_type": "execute_result",
          "data": {
            "text/html": [
              "\n",
              "  <div id=\"df-ffa4c93d-aed1-4c5e-b348-1d30b23f3e69\">\n",
              "    <div class=\"colab-df-container\">\n",
              "      <div>\n",
              "<style scoped>\n",
              "    .dataframe tbody tr th:only-of-type {\n",
              "        vertical-align: middle;\n",
              "    }\n",
              "\n",
              "    .dataframe tbody tr th {\n",
              "        vertical-align: top;\n",
              "    }\n",
              "\n",
              "    .dataframe thead th {\n",
              "        text-align: right;\n",
              "    }\n",
              "</style>\n",
              "<table border=\"1\" class=\"dataframe\">\n",
              "  <thead>\n",
              "    <tr style=\"text-align: right;\">\n",
              "      <th></th>\n",
              "      <th>FECHA_ACTUALIZACION</th>\n",
              "      <th>ID_REGISTRO</th>\n",
              "      <th>TIPO_PACIENTE</th>\n",
              "      <th>FECHA_INGRESO</th>\n",
              "      <th>FECHA_SINTOMAS</th>\n",
              "      <th>FECHA_DEF</th>\n",
              "      <th>CLASIFICACION_FINAL</th>\n",
              "    </tr>\n",
              "  </thead>\n",
              "  <tbody>\n",
              "    <tr>\n",
              "      <th>4808951</th>\n",
              "      <td>2022-01-19</td>\n",
              "      <td>4fcede</td>\n",
              "      <td>2</td>\n",
              "      <td>2021-01-30</td>\n",
              "      <td>2021-01-17</td>\n",
              "      <td>2021-01-30</td>\n",
              "      <td>1</td>\n",
              "    </tr>\n",
              "    <tr>\n",
              "      <th>2253688</th>\n",
              "      <td>2021-12-12</td>\n",
              "      <td>8d63b5</td>\n",
              "      <td>2</td>\n",
              "      <td>2021-03-27</td>\n",
              "      <td>2021-03-20</td>\n",
              "      <td>2021-04-05</td>\n",
              "      <td>1</td>\n",
              "    </tr>\n",
              "    <tr>\n",
              "      <th>6067388</th>\n",
              "      <td>2022-01-19</td>\n",
              "      <td>8d63b5</td>\n",
              "      <td>2</td>\n",
              "      <td>2021-03-27</td>\n",
              "      <td>2021-03-20</td>\n",
              "      <td>2021-04-05</td>\n",
              "      <td>7</td>\n",
              "    </tr>\n",
              "    <tr>\n",
              "      <th>1763304</th>\n",
              "      <td>2021-12-12</td>\n",
              "      <td>adba70</td>\n",
              "      <td>2</td>\n",
              "      <td>2021-02-27</td>\n",
              "      <td>2021-02-18</td>\n",
              "      <td>2021-03-13</td>\n",
              "      <td>7</td>\n",
              "    </tr>\n",
              "    <tr>\n",
              "      <th>5577004</th>\n",
              "      <td>2022-01-19</td>\n",
              "      <td>adba70</td>\n",
              "      <td>2</td>\n",
              "      <td>2021-02-27</td>\n",
              "      <td>2021-02-18</td>\n",
              "      <td>2021-03-13</td>\n",
              "      <td>3</td>\n",
              "    </tr>\n",
              "    <tr>\n",
              "      <th>3114695</th>\n",
              "      <td>2021-12-12</td>\n",
              "      <td>c0874b</td>\n",
              "      <td>2</td>\n",
              "      <td>2021-05-18</td>\n",
              "      <td>2021-05-18</td>\n",
              "      <td>2021-05-18</td>\n",
              "      <td>2</td>\n",
              "    </tr>\n",
              "    <tr>\n",
              "      <th>6928395</th>\n",
              "      <td>2022-01-19</td>\n",
              "      <td>c0874b</td>\n",
              "      <td>2</td>\n",
              "      <td>2021-05-18</td>\n",
              "      <td>2021-05-18</td>\n",
              "      <td>2021-05-18</td>\n",
              "      <td>7</td>\n",
              "    </tr>\n",
              "    <tr>\n",
              "      <th>584765</th>\n",
              "      <td>2021-12-12</td>\n",
              "      <td>c1488c</td>\n",
              "      <td>2</td>\n",
              "      <td>2021-01-18</td>\n",
              "      <td>2021-01-15</td>\n",
              "      <td>2021-01-24</td>\n",
              "      <td>7</td>\n",
              "    </tr>\n",
              "    <tr>\n",
              "      <th>4398465</th>\n",
              "      <td>2022-01-19</td>\n",
              "      <td>c1488c</td>\n",
              "      <td>2</td>\n",
              "      <td>2021-01-18</td>\n",
              "      <td>2021-01-15</td>\n",
              "      <td>2021-01-24</td>\n",
              "      <td>3</td>\n",
              "    </tr>\n",
              "    <tr>\n",
              "      <th>637418</th>\n",
              "      <td>2021-12-12</td>\n",
              "      <td>cd2a49</td>\n",
              "      <td>2</td>\n",
              "      <td>2021-01-21</td>\n",
              "      <td>2021-01-19</td>\n",
              "      <td>2021-01-25</td>\n",
              "      <td>2</td>\n",
              "    </tr>\n",
              "    <tr>\n",
              "      <th>4451118</th>\n",
              "      <td>2022-01-19</td>\n",
              "      <td>cd2a49</td>\n",
              "      <td>2</td>\n",
              "      <td>2021-01-21</td>\n",
              "      <td>2021-01-07</td>\n",
              "      <td>2021-01-25</td>\n",
              "      <td>7</td>\n",
              "    </tr>\n",
              "    <tr>\n",
              "      <th>506144</th>\n",
              "      <td>2021-12-12</td>\n",
              "      <td>d9cf90</td>\n",
              "      <td>2</td>\n",
              "      <td>2021-01-19</td>\n",
              "      <td>2021-01-10</td>\n",
              "      <td>2021-01-23</td>\n",
              "      <td>7</td>\n",
              "    </tr>\n",
              "    <tr>\n",
              "      <th>4319844</th>\n",
              "      <td>2022-01-19</td>\n",
              "      <td>d9cf90</td>\n",
              "      <td>2</td>\n",
              "      <td>2021-01-19</td>\n",
              "      <td>2021-01-10</td>\n",
              "      <td>2021-01-23</td>\n",
              "      <td>3</td>\n",
              "    </tr>\n",
              "    <tr>\n",
              "      <th>4553063</th>\n",
              "      <td>2022-01-19</td>\n",
              "      <td>eb257e</td>\n",
              "      <td>2</td>\n",
              "      <td>2021-01-24</td>\n",
              "      <td>2021-01-16</td>\n",
              "      <td>2021-02-02</td>\n",
              "      <td>7</td>\n",
              "    </tr>\n",
              "  </tbody>\n",
              "</table>\n",
              "</div>\n",
              "      <button class=\"colab-df-convert\" onclick=\"convertToInteractive('df-ffa4c93d-aed1-4c5e-b348-1d30b23f3e69')\"\n",
              "              title=\"Convert this dataframe to an interactive table.\"\n",
              "              style=\"display:none;\">\n",
              "        \n",
              "  <svg xmlns=\"http://www.w3.org/2000/svg\" height=\"24px\"viewBox=\"0 0 24 24\"\n",
              "       width=\"24px\">\n",
              "    <path d=\"M0 0h24v24H0V0z\" fill=\"none\"/>\n",
              "    <path d=\"M18.56 5.44l.94 2.06.94-2.06 2.06-.94-2.06-.94-.94-2.06-.94 2.06-2.06.94zm-11 1L8.5 8.5l.94-2.06 2.06-.94-2.06-.94L8.5 2.5l-.94 2.06-2.06.94zm10 10l.94 2.06.94-2.06 2.06-.94-2.06-.94-.94-2.06-.94 2.06-2.06.94z\"/><path d=\"M17.41 7.96l-1.37-1.37c-.4-.4-.92-.59-1.43-.59-.52 0-1.04.2-1.43.59L10.3 9.45l-7.72 7.72c-.78.78-.78 2.05 0 2.83L4 21.41c.39.39.9.59 1.41.59.51 0 1.02-.2 1.41-.59l7.78-7.78 2.81-2.81c.8-.78.8-2.07 0-2.86zM5.41 20L4 18.59l7.72-7.72 1.47 1.35L5.41 20z\"/>\n",
              "  </svg>\n",
              "      </button>\n",
              "      \n",
              "  <style>\n",
              "    .colab-df-container {\n",
              "      display:flex;\n",
              "      flex-wrap:wrap;\n",
              "      gap: 12px;\n",
              "    }\n",
              "\n",
              "    .colab-df-convert {\n",
              "      background-color: #E8F0FE;\n",
              "      border: none;\n",
              "      border-radius: 50%;\n",
              "      cursor: pointer;\n",
              "      display: none;\n",
              "      fill: #1967D2;\n",
              "      height: 32px;\n",
              "      padding: 0 0 0 0;\n",
              "      width: 32px;\n",
              "    }\n",
              "\n",
              "    .colab-df-convert:hover {\n",
              "      background-color: #E2EBFA;\n",
              "      box-shadow: 0px 1px 2px rgba(60, 64, 67, 0.3), 0px 1px 3px 1px rgba(60, 64, 67, 0.15);\n",
              "      fill: #174EA6;\n",
              "    }\n",
              "\n",
              "    [theme=dark] .colab-df-convert {\n",
              "      background-color: #3B4455;\n",
              "      fill: #D2E3FC;\n",
              "    }\n",
              "\n",
              "    [theme=dark] .colab-df-convert:hover {\n",
              "      background-color: #434B5C;\n",
              "      box-shadow: 0px 1px 3px 1px rgba(0, 0, 0, 0.15);\n",
              "      filter: drop-shadow(0px 1px 2px rgba(0, 0, 0, 0.3));\n",
              "      fill: #FFFFFF;\n",
              "    }\n",
              "  </style>\n",
              "\n",
              "      <script>\n",
              "        const buttonEl =\n",
              "          document.querySelector('#df-ffa4c93d-aed1-4c5e-b348-1d30b23f3e69 button.colab-df-convert');\n",
              "        buttonEl.style.display =\n",
              "          google.colab.kernel.accessAllowed ? 'block' : 'none';\n",
              "\n",
              "        async function convertToInteractive(key) {\n",
              "          const element = document.querySelector('#df-ffa4c93d-aed1-4c5e-b348-1d30b23f3e69');\n",
              "          const dataTable =\n",
              "            await google.colab.kernel.invokeFunction('convertToInteractive',\n",
              "                                                     [key], {});\n",
              "          if (!dataTable) return;\n",
              "\n",
              "          const docLinkHtml = 'Like what you see? Visit the ' +\n",
              "            '<a target=\"_blank\" href=https://colab.research.google.com/notebooks/data_table.ipynb>data table notebook</a>'\n",
              "            + ' to learn more about interactive tables.';\n",
              "          element.innerHTML = '';\n",
              "          dataTable['output_type'] = 'display_data';\n",
              "          await google.colab.output.renderOutput(dataTable, element);\n",
              "          const docLink = document.createElement('div');\n",
              "          docLink.innerHTML = docLinkHtml;\n",
              "          element.appendChild(docLink);\n",
              "        }\n",
              "      </script>\n",
              "    </div>\n",
              "  </div>\n",
              "  "
            ],
            "text/plain": [
              "        FECHA_ACTUALIZACION ID_REGISTRO  ...   FECHA_DEF CLASIFICACION_FINAL\n",
              "4808951          2022-01-19      4fcede  ...  2021-01-30                   1\n",
              "2253688          2021-12-12      8d63b5  ...  2021-04-05                   1\n",
              "6067388          2022-01-19      8d63b5  ...  2021-04-05                   7\n",
              "1763304          2021-12-12      adba70  ...  2021-03-13                   7\n",
              "5577004          2022-01-19      adba70  ...  2021-03-13                   3\n",
              "3114695          2021-12-12      c0874b  ...  2021-05-18                   2\n",
              "6928395          2022-01-19      c0874b  ...  2021-05-18                   7\n",
              "584765           2021-12-12      c1488c  ...  2021-01-24                   7\n",
              "4398465          2022-01-19      c1488c  ...  2021-01-24                   3\n",
              "637418           2021-12-12      cd2a49  ...  2021-01-25                   2\n",
              "4451118          2022-01-19      cd2a49  ...  2021-01-25                   7\n",
              "506144           2021-12-12      d9cf90  ...  2021-01-23                   7\n",
              "4319844          2022-01-19      d9cf90  ...  2021-01-23                   3\n",
              "4553063          2022-01-19      eb257e  ...  2021-02-02                   7\n",
              "\n",
              "[14 rows x 7 columns]"
            ]
          },
          "metadata": {},
          "execution_count": 11
        }
      ],
      "source": [
        "dif[dif.ID_REGISTRO.isin(pos_neg.ID_REGISTRO)].sort_values(by='ID_REGISTRO')"
      ]
    },
    {
      "cell_type": "code",
      "execution_count": 12,
      "metadata": {
        "colab": {
          "base_uri": "https://localhost:8080/",
          "height": 112
        },
        "id": "mhDccAkOyn6b",
        "outputId": "e08e9235-d5dc-47f5-b045-f261a620b4fd"
      },
      "outputs": [
        {
          "output_type": "execute_result",
          "data": {
            "text/html": [
              "\n",
              "  <div id=\"df-393f1a23-6450-4a6f-a7bd-79bfae5496a8\">\n",
              "    <div class=\"colab-df-container\">\n",
              "      <div>\n",
              "<style scoped>\n",
              "    .dataframe tbody tr th:only-of-type {\n",
              "        vertical-align: middle;\n",
              "    }\n",
              "\n",
              "    .dataframe tbody tr th {\n",
              "        vertical-align: top;\n",
              "    }\n",
              "\n",
              "    .dataframe thead th {\n",
              "        text-align: right;\n",
              "    }\n",
              "</style>\n",
              "<table border=\"1\" class=\"dataframe\">\n",
              "  <thead>\n",
              "    <tr style=\"text-align: right;\">\n",
              "      <th></th>\n",
              "      <th>ID_REGISTRO</th>\n",
              "      <th>FECHA_ACTUALIZACION</th>\n",
              "      <th>FECHA_INGRESO</th>\n",
              "      <th>FECHA_SINTOMAS</th>\n",
              "      <th>FECHA_DEF</th>\n",
              "      <th>CLASIFICACION_FINAL</th>\n",
              "    </tr>\n",
              "  </thead>\n",
              "  <tbody>\n",
              "    <tr>\n",
              "      <th>1763304</th>\n",
              "      <td>adba70</td>\n",
              "      <td>2021-12-12</td>\n",
              "      <td>2021-02-27</td>\n",
              "      <td>2021-02-18</td>\n",
              "      <td>2021-03-13</td>\n",
              "      <td>7</td>\n",
              "    </tr>\n",
              "    <tr>\n",
              "      <th>5577004</th>\n",
              "      <td>adba70</td>\n",
              "      <td>2022-01-19</td>\n",
              "      <td>2021-02-27</td>\n",
              "      <td>2021-02-18</td>\n",
              "      <td>2021-03-13</td>\n",
              "      <td>3</td>\n",
              "    </tr>\n",
              "  </tbody>\n",
              "</table>\n",
              "</div>\n",
              "      <button class=\"colab-df-convert\" onclick=\"convertToInteractive('df-393f1a23-6450-4a6f-a7bd-79bfae5496a8')\"\n",
              "              title=\"Convert this dataframe to an interactive table.\"\n",
              "              style=\"display:none;\">\n",
              "        \n",
              "  <svg xmlns=\"http://www.w3.org/2000/svg\" height=\"24px\"viewBox=\"0 0 24 24\"\n",
              "       width=\"24px\">\n",
              "    <path d=\"M0 0h24v24H0V0z\" fill=\"none\"/>\n",
              "    <path d=\"M18.56 5.44l.94 2.06.94-2.06 2.06-.94-2.06-.94-.94-2.06-.94 2.06-2.06.94zm-11 1L8.5 8.5l.94-2.06 2.06-.94-2.06-.94L8.5 2.5l-.94 2.06-2.06.94zm10 10l.94 2.06.94-2.06 2.06-.94-2.06-.94-.94-2.06-.94 2.06-2.06.94z\"/><path d=\"M17.41 7.96l-1.37-1.37c-.4-.4-.92-.59-1.43-.59-.52 0-1.04.2-1.43.59L10.3 9.45l-7.72 7.72c-.78.78-.78 2.05 0 2.83L4 21.41c.39.39.9.59 1.41.59.51 0 1.02-.2 1.41-.59l7.78-7.78 2.81-2.81c.8-.78.8-2.07 0-2.86zM5.41 20L4 18.59l7.72-7.72 1.47 1.35L5.41 20z\"/>\n",
              "  </svg>\n",
              "      </button>\n",
              "      \n",
              "  <style>\n",
              "    .colab-df-container {\n",
              "      display:flex;\n",
              "      flex-wrap:wrap;\n",
              "      gap: 12px;\n",
              "    }\n",
              "\n",
              "    .colab-df-convert {\n",
              "      background-color: #E8F0FE;\n",
              "      border: none;\n",
              "      border-radius: 50%;\n",
              "      cursor: pointer;\n",
              "      display: none;\n",
              "      fill: #1967D2;\n",
              "      height: 32px;\n",
              "      padding: 0 0 0 0;\n",
              "      width: 32px;\n",
              "    }\n",
              "\n",
              "    .colab-df-convert:hover {\n",
              "      background-color: #E2EBFA;\n",
              "      box-shadow: 0px 1px 2px rgba(60, 64, 67, 0.3), 0px 1px 3px 1px rgba(60, 64, 67, 0.15);\n",
              "      fill: #174EA6;\n",
              "    }\n",
              "\n",
              "    [theme=dark] .colab-df-convert {\n",
              "      background-color: #3B4455;\n",
              "      fill: #D2E3FC;\n",
              "    }\n",
              "\n",
              "    [theme=dark] .colab-df-convert:hover {\n",
              "      background-color: #434B5C;\n",
              "      box-shadow: 0px 1px 3px 1px rgba(0, 0, 0, 0.15);\n",
              "      filter: drop-shadow(0px 1px 2px rgba(0, 0, 0, 0.3));\n",
              "      fill: #FFFFFF;\n",
              "    }\n",
              "  </style>\n",
              "\n",
              "      <script>\n",
              "        const buttonEl =\n",
              "          document.querySelector('#df-393f1a23-6450-4a6f-a7bd-79bfae5496a8 button.colab-df-convert');\n",
              "        buttonEl.style.display =\n",
              "          google.colab.kernel.accessAllowed ? 'block' : 'none';\n",
              "\n",
              "        async function convertToInteractive(key) {\n",
              "          const element = document.querySelector('#df-393f1a23-6450-4a6f-a7bd-79bfae5496a8');\n",
              "          const dataTable =\n",
              "            await google.colab.kernel.invokeFunction('convertToInteractive',\n",
              "                                                     [key], {});\n",
              "          if (!dataTable) return;\n",
              "\n",
              "          const docLinkHtml = 'Like what you see? Visit the ' +\n",
              "            '<a target=\"_blank\" href=https://colab.research.google.com/notebooks/data_table.ipynb>data table notebook</a>'\n",
              "            + ' to learn more about interactive tables.';\n",
              "          element.innerHTML = '';\n",
              "          dataTable['output_type'] = 'display_data';\n",
              "          await google.colab.output.renderOutput(dataTable, element);\n",
              "          const docLink = document.createElement('div');\n",
              "          docLink.innerHTML = docLinkHtml;\n",
              "          element.appendChild(docLink);\n",
              "        }\n",
              "      </script>\n",
              "    </div>\n",
              "  </div>\n",
              "  "
            ],
            "text/plain": [
              "        ID_REGISTRO FECHA_ACTUALIZACION  ...   FECHA_DEF CLASIFICACION_FINAL\n",
              "1763304      adba70          2021-12-12  ...  2021-03-13                   7\n",
              "5577004      adba70          2022-01-19  ...  2021-03-13                   3\n",
              "\n",
              "[2 rows x 6 columns]"
            ]
          },
          "metadata": {},
          "execution_count": 12
        }
      ],
      "source": [
        "dif[dif.ID_REGISTRO=='adba70'][['ID_REGISTRO','FECHA_ACTUALIZACION','FECHA_INGRESO','FECHA_SINTOMAS','FECHA_DEF','CLASIFICACION_FINAL']]"
      ]
    },
    {
      "cell_type": "code",
      "execution_count": 13,
      "metadata": {
        "colab": {
          "base_uri": "https://localhost:8080/",
          "height": 36
        },
        "id": "ZyXmlYCBj-2J",
        "outputId": "b7dc98f8-9473-4611-8f3f-e2a9aa956c7c"
      },
      "outputs": [
        {
          "output_type": "execute_result",
          "data": {
            "application/vnd.google.colaboratory.intrinsic+json": {
              "type": "string"
            },
            "text/plain": [
              "'2021-11-27'"
            ]
          },
          "metadata": {},
          "execution_count": 13
        }
      ],
      "source": [
        "dif.FECHA_DEF.max() "
      ]
    },
    {
      "cell_type": "code",
      "execution_count": 14,
      "metadata": {
        "id": "SvSDSwPwMoLL"
      },
      "outputs": [],
      "source": [
        "rec = pos[(pos.FECHA_INGRESO < '2021-11-13')&(~pos.ID_REGISTRO.isin(dif.ID_REGISTRO))]['ID_REGISTRO']\n",
        "inf_gnr = {'pT': covidato.ID_REGISTRO.nunique(), 'casos': pos.ID_REGISTRO.nunique(), \n",
        "           'muertes': dif_pos.ID_REGISTRO.nunique(), 'hospitalizados': hos_pos.ID_REGISTRO.nunique(),\n",
        "           'No hospitalizados': pos.ID_REGISTRO.nunique() - hos_pos.ID_REGISTRO.nunique(), \n",
        "           'recuperados': rec.nunique()\n",
        "}"
      ]
    },
    {
      "cell_type": "code",
      "execution_count": 15,
      "metadata": {
        "colab": {
          "base_uri": "https://localhost:8080/"
        },
        "id": "k6hL4N9-j9sd",
        "outputId": "1aee0d2d-7bc1-4f55-cfa0-6a6fd5a77dc3"
      },
      "outputs": [
        {
          "output_type": "execute_result",
          "data": {
            "text/plain": [
              "{'No hospitalizados': 862400,\n",
              " 'casos': 1020359,\n",
              " 'hospitalizados': 157959,\n",
              " 'muertes': 82461,\n",
              " 'pT': 3813700,\n",
              " 'recuperados': 937898}"
            ]
          },
          "metadata": {},
          "execution_count": 15
        }
      ],
      "source": [
        "inf_gnr"
      ]
    },
    {
      "cell_type": "code",
      "execution_count": 16,
      "metadata": {
        "colab": {
          "base_uri": "https://localhost:8080/"
        },
        "id": "ABbyhJLqovEX",
        "outputId": "86f0c9f8-16c3-432e-d7dd-c4aff1c06cc1"
      },
      "outputs": [
        {
          "output_type": "execute_result",
          "data": {
            "text/plain": [
              "2    199016\n",
              "1     13213\n",
              "Name: TIPO_PACIENTE, dtype: int64"
            ]
          },
          "metadata": {},
          "execution_count": 16
        }
      ],
      "source": [
        "dif.TIPO_PACIENTE.value_counts()"
      ]
    },
    {
      "cell_type": "markdown",
      "source": [
        "Probabilities "
      ],
      "metadata": {
        "id": "VgAysOPrn9Ut"
      }
    },
    {
      "cell_type": "code",
      "execution_count": 17,
      "metadata": {
        "colab": {
          "base_uri": "https://localhost:8080/"
        },
        "id": "M-x2b3IAQYBd",
        "outputId": "60caee46-1b3c-436e-f476-7609d31a4b0b"
      },
      "outputs": [
        {
          "output_type": "stream",
          "name": "stdout",
          "text": [
            "S->N=0.7061, S->P0.2676\n"
          ]
        }
      ],
      "source": [
        "######################\n",
        "### PROBABILITIES ###\n",
        "######################\n",
        "\n",
        "### Being in state S###\n",
        "\n",
        "#S->N\n",
        "P_S2N = neg.ID_REGISTRO.nunique()/inf_gnr['pT'] #P(N&S)/P(S)\n",
        "\n",
        "\n",
        "#S->P\n",
        "P_S2P = pos.ID_REGISTRO.nunique()/inf_gnr['pT'] #P(P&S)/P(S)\n",
        "\n",
        "print(f\"S->N={P_S2N:.4f}, S->P{P_S2P:.4f}\")"
      ]
    },
    {
      "cell_type": "code",
      "execution_count": 18,
      "metadata": {
        "colab": {
          "base_uri": "https://localhost:8080/"
        },
        "id": "qs526vMtSJfZ",
        "outputId": "8a317e38-ffa2-4b13-f0aa-b420c8a2707a"
      },
      "outputs": [
        {
          "output_type": "stream",
          "name": "stdout",
          "text": [
            "P->N=0.8402,P->H=0.1548,P->M=0.0050\n"
          ]
        }
      ],
      "source": [
        "### Being in state P ###\n",
        "\n",
        "#P-> N\n",
        "P_P2N = pos[(pos.ID_REGISTRO.isin(rec))&(~pos.ID_REGISTRO.isin(hos.ID_REGISTRO))].ID_REGISTRO.nunique()/pos.ID_REGISTRO.nunique()\n",
        "\n",
        "#P -> H\n",
        "P_P2H = hos_pos.ID_REGISTRO.nunique()/pos.ID_REGISTRO.nunique(); P_P2H\n",
        "\n",
        "#P -> D\n",
        "P_P2M = pos[(pos.ID_REGISTRO.isin(dif.ID_REGISTRO))&(~pos.ID_REGISTRO.isin(hos.ID_REGISTRO))].ID_REGISTRO.nunique()/pos.ID_REGISTRO.nunique()\n",
        "\n",
        "print(f\"P->N={P_P2N:.4f},P->H={P_P2H:.4f},P->M={P_P2M:.4f}\")"
      ]
    },
    {
      "cell_type": "code",
      "execution_count": 19,
      "metadata": {
        "colab": {
          "base_uri": "https://localhost:8080/"
        },
        "id": "D0KAYIOxQAvp",
        "outputId": "12807660-0eb8-47c5-b9d7-5086909cafc5"
      },
      "outputs": [
        {
          "output_type": "stream",
          "name": "stdout",
          "text": [
            "H->N=0.5101,H->M=0.4899\n"
          ]
        }
      ],
      "source": [
        "### Being in state H ###\n",
        "\n",
        "P_H2N = hos_pos[(hos_pos.ID_REGISTRO.isin(rec))].ID_REGISTRO.nunique()/hos_pos.ID_REGISTRO.nunique()\n",
        "\n",
        "P_H2M = hos_pos[(hos_pos.ID_REGISTRO.isin(dif.ID_REGISTRO))].ID_REGISTRO.nunique()/hos_pos.ID_REGISTRO.nunique()\n",
        "\n",
        "print(f\"H->N={P_H2N:.4f},H->M={P_H2M:.4f}\")"
      ]
    },
    {
      "cell_type": "code",
      "execution_count": 20,
      "metadata": {
        "id": "wtO5srPl9d9K"
      },
      "outputs": [],
      "source": [
        "#Dictionary definition\n",
        "\n",
        "chain = {'S':[('P',0.2676), ('N',0.7061)], \n",
        "           'P':[('N',0.8402), ('H',0.1548), ('D',0.0050)], \n",
        "           'H':[('N',0.5101), ('D',0.4899)],\n",
        "           'D':[('D',1)]} #Final state\n"
      ]
    },
    {
      "cell_type": "markdown",
      "metadata": {
        "id": "nYiDOLp2L7nm"
      },
      "source": [
        "\n",
        "\n",
        "\n",
        "We begin the simulations"
      ]
    },
    {
      "cell_type": "markdown",
      "metadata": {
        "id": "5FF03TJkRxLZ"
      },
      "source": [
        "We create a function that allows us to obtain the next state of a certain population"
      ]
    },
    {
      "cell_type": "code",
      "execution_count": 21,
      "metadata": {
        "id": "4TL3hc9vMBPE"
      },
      "outputs": [],
      "source": [
        "def get_states(people):\n",
        "    #people: List of strings that represents thecurrent state of a population\n",
        "    \"\"\"\n",
        "    This function will see the current state for each person and will update it,\n",
        "    at the end the function will count the people in each state and will return\n",
        "    a dictionary with the counter\n",
        "    \"\"\"\n",
        "\n",
        "    n = len(people)\n",
        "\n",
        "    for i in range(n):\n",
        "        state = people[i]\n",
        "        \n",
        "        #If the person doesn't have covid, we can't predict their next state\n",
        "        if state =='N':\n",
        "            continue\n",
        "\n",
        "        #We generate a random number in the interval [0,1)\n",
        "        x = np.random.random()\n",
        "\n",
        "        #We get the transitions and sort them ascending order(?) by the probaility\n",
        "        transitions = chain[state]\n",
        "        transitions.sort(key = lambda x: x[1])\n",
        "\n",
        "        #We get the probabilities\n",
        "        probs = [t[1] for t in transitions]\n",
        "\n",
        "        #We get the next state of our person by checking the interval where the\n",
        "        #random number fell (?) \n",
        "        for j in range(len(probs)):\n",
        "            if j==0:\n",
        "                if x <= probs[j]:\n",
        "                    people[i] = transitions[j][0]\n",
        "                    break\n",
        "                continue\n",
        "\n",
        "            lim_inf = probs[j-1]\n",
        "            lim_sup = probs[j]+lim_inf\n",
        "                \n",
        "            if x > lim_inf and x <= lim_sup:\n",
        "                people[i] = transitions[j][0]\n",
        "                break\n",
        "\n",
        "    #We return the dictionary that counts the results\n",
        "    counter = dict(collections.Counter(people))\n",
        "    #Our mistake will be the people that didn't get a diagnosis\n",
        "    try:\n",
        "        counter['e']= counter['S']\n",
        "    except:\n",
        "        counter['e']=0\n",
        "    #Our S value will be the quantity of people that did a test\n",
        "    counter['S']=n\n",
        "\n",
        "    return counter"
      ]
    },
    {
      "cell_type": "code",
      "execution_count": 22,
      "metadata": {
        "colab": {
          "base_uri": "https://localhost:8080/"
        },
        "id": "OJSZMF1hQF7M",
        "outputId": "dd0f8945-d642-485b-f218-f97b19ff1a31"
      },
      "outputs": [
        {
          "output_type": "execute_result",
          "data": {
            "text/plain": [
              "{'N': 713, 'P': 266, 'S': 1000, 'e': 21}"
            ]
          },
          "metadata": {},
          "execution_count": 22
        }
      ],
      "source": [
        "#Test\n",
        "pe = ['S' for i in range(1000)]\n",
        "get_states(pe)"
      ]
    },
    {
      "cell_type": "markdown",
      "metadata": {
        "id": "-BLJRj_8Uh7C"
      },
      "source": [
        "We then create a function to handle the simulations\n"
      ]
    },
    {
      "cell_type": "code",
      "execution_count": 44,
      "metadata": {
        "id": "zJre18urRfLY"
      },
      "outputs": [],
      "source": [
        "def do_simulations(s_people,initial_people=[]):\n",
        "    #s_people: list with integers of people per day\n",
        "    #initial_people: list with strings that represent the current state of all people\n",
        "    \"\"\"\n",
        "    This function does n simulations with p people added in each one, the result\n",
        "    is a dataframe with the main details\n",
        "    \"\"\"\n",
        "\n",
        "    \n",
        "    if initial_people==[]:\n",
        "        prev_people=['S']*s_people[0]\n",
        "\n",
        "    # We create a dataframe that will help us to keep a track\n",
        "    simulations = pd.DataFrame(columns=['S','N','P','H','D','e'])\n",
        "\n",
        "    #The first simulation\n",
        "    simulations.loc[1] = get_states(prev_people)\n",
        "    simulations.fillna(0,inplace=True)\n",
        "    #Now we start the simulations\n",
        "    for i,p in enumerate(s_people[1:]):\n",
        "        \n",
        "        #We create our people to check\n",
        "        positive = int(simulations.loc[i+1,'P'])\n",
        "        hospitalized = int(simulations.loc[i+1,'H'])\n",
        "        error = int(simulations.loc[i+1,'e'])\n",
        "        people = ['S']*(p+error) + ['P']*positive + ['H']*hospitalized\n",
        "        \n",
        "        #We store the results\n",
        "        simulations.loc[i+2] = get_states(people)\n",
        "        simulations.fillna(0,inplace=True)\n",
        "\n",
        "    #We return the dataframe\n",
        "    return simulations"
      ]
    },
    {
      "cell_type": "code",
      "execution_count": 65,
      "metadata": {
        "id": "Slnk3R3qRqyE"
      },
      "outputs": [],
      "source": [
        "s_people = list(covidato['FECHA_SINTOMAS'].value_counts())\n",
        "test1 = do_simulations(s_people)"
      ]
    },
    {
      "cell_type": "code",
      "execution_count": 66,
      "metadata": {
        "id": "6QXT-x2oRsJ1",
        "colab": {
          "base_uri": "https://localhost:8080/",
          "height": 424
        },
        "outputId": "90a4c358-2a13-4549-febe-2ca8bb3c5bd0"
      },
      "outputs": [
        {
          "output_type": "execute_result",
          "data": {
            "text/html": [
              "\n",
              "  <div id=\"df-71b6be79-0106-4775-8868-724241ef0556\">\n",
              "    <div class=\"colab-df-container\">\n",
              "      <div>\n",
              "<style scoped>\n",
              "    .dataframe tbody tr th:only-of-type {\n",
              "        vertical-align: middle;\n",
              "    }\n",
              "\n",
              "    .dataframe tbody tr th {\n",
              "        vertical-align: top;\n",
              "    }\n",
              "\n",
              "    .dataframe thead th {\n",
              "        text-align: right;\n",
              "    }\n",
              "</style>\n",
              "<table border=\"1\" class=\"dataframe\">\n",
              "  <thead>\n",
              "    <tr style=\"text-align: right;\">\n",
              "      <th></th>\n",
              "      <th>S</th>\n",
              "      <th>N</th>\n",
              "      <th>P</th>\n",
              "      <th>H</th>\n",
              "      <th>D</th>\n",
              "      <th>e</th>\n",
              "    </tr>\n",
              "  </thead>\n",
              "  <tbody>\n",
              "    <tr>\n",
              "      <th>1</th>\n",
              "      <td>98643</td>\n",
              "      <td>69379.0</td>\n",
              "      <td>26633.0</td>\n",
              "      <td>0.0</td>\n",
              "      <td>0.0</td>\n",
              "      <td>2631</td>\n",
              "    </tr>\n",
              "    <tr>\n",
              "      <th>2</th>\n",
              "      <td>123127</td>\n",
              "      <td>90484.0</td>\n",
              "      <td>25841.0</td>\n",
              "      <td>4092.0</td>\n",
              "      <td>142.0</td>\n",
              "      <td>2568</td>\n",
              "    </tr>\n",
              "    <tr>\n",
              "      <th>3</th>\n",
              "      <td>122427</td>\n",
              "      <td>89067.0</td>\n",
              "      <td>24805.0</td>\n",
              "      <td>3977.0</td>\n",
              "      <td>2113.0</td>\n",
              "      <td>2465</td>\n",
              "    </tr>\n",
              "    <tr>\n",
              "      <th>4</th>\n",
              "      <td>120817</td>\n",
              "      <td>87904.0</td>\n",
              "      <td>24587.0</td>\n",
              "      <td>3805.0</td>\n",
              "      <td>2091.0</td>\n",
              "      <td>2430</td>\n",
              "    </tr>\n",
              "    <tr>\n",
              "      <th>5</th>\n",
              "      <td>120048</td>\n",
              "      <td>87196.0</td>\n",
              "      <td>24543.0</td>\n",
              "      <td>3820.0</td>\n",
              "      <td>2023.0</td>\n",
              "      <td>2466</td>\n",
              "    </tr>\n",
              "    <tr>\n",
              "      <th>...</th>\n",
              "      <td>...</td>\n",
              "      <td>...</td>\n",
              "      <td>...</td>\n",
              "      <td>...</td>\n",
              "      <td>...</td>\n",
              "      <td>...</td>\n",
              "    </tr>\n",
              "    <tr>\n",
              "      <th>229</th>\n",
              "      <td>2</td>\n",
              "      <td>0.0</td>\n",
              "      <td>2.0</td>\n",
              "      <td>0.0</td>\n",
              "      <td>0.0</td>\n",
              "      <td>0</td>\n",
              "    </tr>\n",
              "    <tr>\n",
              "      <th>230</th>\n",
              "      <td>4</td>\n",
              "      <td>4.0</td>\n",
              "      <td>0.0</td>\n",
              "      <td>0.0</td>\n",
              "      <td>0.0</td>\n",
              "      <td>0</td>\n",
              "    </tr>\n",
              "    <tr>\n",
              "      <th>231</th>\n",
              "      <td>2</td>\n",
              "      <td>2.0</td>\n",
              "      <td>0.0</td>\n",
              "      <td>0.0</td>\n",
              "      <td>0.0</td>\n",
              "      <td>0</td>\n",
              "    </tr>\n",
              "    <tr>\n",
              "      <th>232</th>\n",
              "      <td>2</td>\n",
              "      <td>2.0</td>\n",
              "      <td>0.0</td>\n",
              "      <td>0.0</td>\n",
              "      <td>0.0</td>\n",
              "      <td>0</td>\n",
              "    </tr>\n",
              "    <tr>\n",
              "      <th>233</th>\n",
              "      <td>2</td>\n",
              "      <td>2.0</td>\n",
              "      <td>0.0</td>\n",
              "      <td>0.0</td>\n",
              "      <td>0.0</td>\n",
              "      <td>0</td>\n",
              "    </tr>\n",
              "  </tbody>\n",
              "</table>\n",
              "<p>233 rows × 6 columns</p>\n",
              "</div>\n",
              "      <button class=\"colab-df-convert\" onclick=\"convertToInteractive('df-71b6be79-0106-4775-8868-724241ef0556')\"\n",
              "              title=\"Convert this dataframe to an interactive table.\"\n",
              "              style=\"display:none;\">\n",
              "        \n",
              "  <svg xmlns=\"http://www.w3.org/2000/svg\" height=\"24px\"viewBox=\"0 0 24 24\"\n",
              "       width=\"24px\">\n",
              "    <path d=\"M0 0h24v24H0V0z\" fill=\"none\"/>\n",
              "    <path d=\"M18.56 5.44l.94 2.06.94-2.06 2.06-.94-2.06-.94-.94-2.06-.94 2.06-2.06.94zm-11 1L8.5 8.5l.94-2.06 2.06-.94-2.06-.94L8.5 2.5l-.94 2.06-2.06.94zm10 10l.94 2.06.94-2.06 2.06-.94-2.06-.94-.94-2.06-.94 2.06-2.06.94z\"/><path d=\"M17.41 7.96l-1.37-1.37c-.4-.4-.92-.59-1.43-.59-.52 0-1.04.2-1.43.59L10.3 9.45l-7.72 7.72c-.78.78-.78 2.05 0 2.83L4 21.41c.39.39.9.59 1.41.59.51 0 1.02-.2 1.41-.59l7.78-7.78 2.81-2.81c.8-.78.8-2.07 0-2.86zM5.41 20L4 18.59l7.72-7.72 1.47 1.35L5.41 20z\"/>\n",
              "  </svg>\n",
              "      </button>\n",
              "      \n",
              "  <style>\n",
              "    .colab-df-container {\n",
              "      display:flex;\n",
              "      flex-wrap:wrap;\n",
              "      gap: 12px;\n",
              "    }\n",
              "\n",
              "    .colab-df-convert {\n",
              "      background-color: #E8F0FE;\n",
              "      border: none;\n",
              "      border-radius: 50%;\n",
              "      cursor: pointer;\n",
              "      display: none;\n",
              "      fill: #1967D2;\n",
              "      height: 32px;\n",
              "      padding: 0 0 0 0;\n",
              "      width: 32px;\n",
              "    }\n",
              "\n",
              "    .colab-df-convert:hover {\n",
              "      background-color: #E2EBFA;\n",
              "      box-shadow: 0px 1px 2px rgba(60, 64, 67, 0.3), 0px 1px 3px 1px rgba(60, 64, 67, 0.15);\n",
              "      fill: #174EA6;\n",
              "    }\n",
              "\n",
              "    [theme=dark] .colab-df-convert {\n",
              "      background-color: #3B4455;\n",
              "      fill: #D2E3FC;\n",
              "    }\n",
              "\n",
              "    [theme=dark] .colab-df-convert:hover {\n",
              "      background-color: #434B5C;\n",
              "      box-shadow: 0px 1px 3px 1px rgba(0, 0, 0, 0.15);\n",
              "      filter: drop-shadow(0px 1px 2px rgba(0, 0, 0, 0.3));\n",
              "      fill: #FFFFFF;\n",
              "    }\n",
              "  </style>\n",
              "\n",
              "      <script>\n",
              "        const buttonEl =\n",
              "          document.querySelector('#df-71b6be79-0106-4775-8868-724241ef0556 button.colab-df-convert');\n",
              "        buttonEl.style.display =\n",
              "          google.colab.kernel.accessAllowed ? 'block' : 'none';\n",
              "\n",
              "        async function convertToInteractive(key) {\n",
              "          const element = document.querySelector('#df-71b6be79-0106-4775-8868-724241ef0556');\n",
              "          const dataTable =\n",
              "            await google.colab.kernel.invokeFunction('convertToInteractive',\n",
              "                                                     [key], {});\n",
              "          if (!dataTable) return;\n",
              "\n",
              "          const docLinkHtml = 'Like what you see? Visit the ' +\n",
              "            '<a target=\"_blank\" href=https://colab.research.google.com/notebooks/data_table.ipynb>data table notebook</a>'\n",
              "            + ' to learn more about interactive tables.';\n",
              "          element.innerHTML = '';\n",
              "          dataTable['output_type'] = 'display_data';\n",
              "          await google.colab.output.renderOutput(dataTable, element);\n",
              "          const docLink = document.createElement('div');\n",
              "          docLink.innerHTML = docLinkHtml;\n",
              "          element.appendChild(docLink);\n",
              "        }\n",
              "      </script>\n",
              "    </div>\n",
              "  </div>\n",
              "  "
            ],
            "text/plain": [
              "          S        N        P       H       D     e\n",
              "1     98643  69379.0  26633.0     0.0     0.0  2631\n",
              "2    123127  90484.0  25841.0  4092.0   142.0  2568\n",
              "3    122427  89067.0  24805.0  3977.0  2113.0  2465\n",
              "4    120817  87904.0  24587.0  3805.0  2091.0  2430\n",
              "5    120048  87196.0  24543.0  3820.0  2023.0  2466\n",
              "..      ...      ...      ...     ...     ...   ...\n",
              "229       2      0.0      2.0     0.0     0.0     0\n",
              "230       4      4.0      0.0     0.0     0.0     0\n",
              "231       2      2.0      0.0     0.0     0.0     0\n",
              "232       2      2.0      0.0     0.0     0.0     0\n",
              "233       2      2.0      0.0     0.0     0.0     0\n",
              "\n",
              "[233 rows x 6 columns]"
            ]
          },
          "metadata": {},
          "execution_count": 66
        }
      ],
      "source": [
        "#test1=np.log2(test1)\n",
        "test1"
      ]
    },
    {
      "cell_type": "code",
      "source": [
        "sims=list(range(1,test1.shape[0]+1))\n",
        "sns.lineplot(data=test1, x=sims, y=\"N\", color='blue', label=\"Negative\")\n",
        "sns.lineplot(data=test1, x=sims, y=\"P\", color='green', label=\"Positive\")\n",
        "sns.lineplot(data=test1, x=sims, y=\"H\", color='goldenrod', label=\"Hospitalised\")\n",
        "sns.lineplot(data=test1, x=sims, y=\"D\", color='red', label=\"Death rate\")\n",
        "plt.title(\"Simulation results\")\n",
        "plt.xlabel('Simulation')\n",
        "plt.ylabel('People')\n",
        "plt.legend()\n",
        "plt.show()"
      ],
      "metadata": {
        "colab": {
          "base_uri": "https://localhost:8080/",
          "height": 295
        },
        "id": "BycQJUZ0YrFG",
        "outputId": "1dd84f58-8a7e-49c3-e822-d708b705b4e8"
      },
      "execution_count": 68,
      "outputs": [
        {
          "output_type": "display_data",
          "data": {
            "image/png": "[encoded data removed]",
            "text/plain": [
              "<Figure size 432x288 with 1 Axes>"
            ]
          },
          "metadata": {
            "needs_background": "light"
          }
        }
      ]
    },
    {
      "cell_type": "code",
      "source": [
        "sims=list(range(1,test1.shape[0]+1))\n",
        "sns.lineplot(x=sims, y=test1.P.cumsum(), color='green', label=\"Positive\")\n",
        "sns.lineplot(x=sims, y=test1.H.cumsum(), color='goldenrod', label=\"Hospitalised\")\n",
        "sns.lineplot(x=sims, y=test1.D.cumsum(), color='red', label=\"Death rate\")\n",
        "\n",
        "plt.xlabel('Simulation')\n",
        "plt.ylabel('People')\n",
        "plt.show()"
      ],
      "metadata": {
        "colab": {
          "base_uri": "https://localhost:8080/",
          "height": 290
        },
        "id": "IfPLO7Z4hI_N",
        "outputId": "f437a59a-c0ba-4809-ad97-c55cd07ca41d"
      },
      "execution_count": 69,
      "outputs": [
        {
          "output_type": "display_data",
          "data": {
            "image/png": "[encoded data removed]",
            "text/plain": [
              "<Figure size 432x288 with 1 Axes>"
            ]
          },
          "metadata": {
            "needs_background": "light"
          }
        }
      ]
    },
    {
      "cell_type": "code",
      "source": [
        "sims=list(range(1,test1.shape[0]+1))\n",
        "sns.lineplot(data=test1, x=sims, y=\"N\", color='blue')\n",
        "plt.title('Negative')\n",
        "plt.xlabel('Simulation')\n",
        "plt.ylabel('People')\n",
        "plt.show()"
      ],
      "metadata": {
        "colab": {
          "base_uri": "https://localhost:8080/",
          "height": 295
        },
        "id": "qKG88w1kZRFE",
        "outputId": "163be49a-9da9-4496-b158-bce0d8c8fda1"
      },
      "execution_count": 70,
      "outputs": [
        {
          "output_type": "display_data",
          "data": {
            "image/png": "[encoded data removed]",
            "text/plain": [
              "<Figure size 432x288 with 1 Axes>"
            ]
          },
          "metadata": {
            "needs_background": "light"
          }
        }
      ]
    },
    {
      "cell_type": "code",
      "source": [
        "sims=list(range(1,test1.shape[0]+1))\n",
        "sns.lineplot(data=test1, x=sims, y=\"P\", color='green')\n",
        "plt.title('Positive')\n",
        "plt.xlabel('Simulation')\n",
        "plt.ylabel('People')\n",
        "plt.show()"
      ],
      "metadata": {
        "colab": {
          "base_uri": "https://localhost:8080/",
          "height": 295
        },
        "id": "S3tHcsKqgunj",
        "outputId": "9b0c83fb-6ba5-4f09-fe67-6ca69a6c507f"
      },
      "execution_count": 71,
      "outputs": [
        {
          "output_type": "display_data",
          "data": {
            "image/png": "[encoded data removed]",
            "text/plain": [
              "<Figure size 432x288 with 1 Axes>"
            ]
          },
          "metadata": {
            "needs_background": "light"
          }
        }
      ]
    },
    {
      "cell_type": "code",
      "source": [
        "sims=list(range(1,test1.shape[0]+1))\n",
        "sns.lineplot(data=test1, x=sims, y=\"H\", color='goldenrod')\n",
        "plt.title('Hospitalised')\n",
        "plt.xlabel('Simulation')\n",
        "plt.ylabel('People')\n",
        "plt.show()"
      ],
      "metadata": {
        "colab": {
          "base_uri": "https://localhost:8080/",
          "height": 295
        },
        "id": "9B2juDoKg0V9",
        "outputId": "bf7ee852-7f51-484e-e11c-5a8859466c1a"
      },
      "execution_count": 72,
      "outputs": [
        {
          "output_type": "display_data",
          "data": {
            "image/png": "[encoded data removed]",
            "text/plain": [
              "<Figure size 432x288 with 1 Axes>"
            ]
          },
          "metadata": {
            "needs_background": "light"
          }
        }
      ]
    },
    {
      "cell_type": "code",
      "source": [
        "sims=list(range(1,test1.shape[0]+1))\n",
        "D=list(dif[dif.FECHA_ACTUALIZACION=='2022-01-19'].FECHA_DEF.value_counts())\n",
        "nd = [i for i in range(1,len(D)+1)]\n",
        "sns.lineplot(x=nd, y=D, color='darkred', label='Real')\n",
        "sns.lineplot(data=test1, x=sims, y=\"D\", color='red', label = 'Simulation')\n",
        "plt.legend()\n",
        "plt.title(\"Results for dead people\")\n",
        "plt.xlabel('Simulation')\n",
        "plt.ylabel('People')\n",
        "plt.show()"
      ],
      "metadata": {
        "colab": {
          "base_uri": "https://localhost:8080/",
          "height": 295
        },
        "id": "z4NTO5Sig3TY",
        "outputId": "8b4e02c5-fadc-4da1-fffa-3c78daae4fb8"
      },
      "execution_count": 67,
      "outputs": [
        {
          "output_type": "display_data",
          "data": {
            "image/png": "[encoded data removed]",
            "text/plain": [
              "<Figure size 432x288 with 1 Axes>"
            ]
          },
          "metadata": {
            "needs_background": "light"
          }
        }
      ]
    },
    {
      "cell_type": "code",
      "source": [
        "sims=list(range(1,test1.shape[0]+1))\n",
        "sns.lineplot(data=test1, x=sims, y=\"e\", color='darkorchid')\n",
        "plt.title('Error')\n",
        "plt.xlabel('Simulation')\n",
        "plt.ylabel('People')\n",
        "plt.show()"
      ],
      "metadata": {
        "colab": {
          "base_uri": "https://localhost:8080/",
          "height": 295
        },
        "id": "GvznQCgdhC-V",
        "outputId": "fa3867b4-b23b-4f1c-cd93-7cac435a00e6"
      },
      "execution_count": 73,
      "outputs": [
        {
          "output_type": "display_data",
          "data": {
            "image/png": "[encoded data removed]",
            "text/plain": [
              "<Figure size 432x288 with 1 Axes>"
            ]
          },
          "metadata": {
            "needs_background": "light"
          }
        }
      ]
    }
  ],
  "metadata": {
    "colab": {
      "collapsed_sections": [],
      "name": "MarKovid.ipynb",
      "provenance": [],
      "include_colab_link": true
    },
    "kernelspec": {
      "display_name": "Python 3",
      "name": "python3"
    },
    "language_info": {
      "name": "python"
    }
  },
  "nbformat": 4,
  "nbformat_minor": 0
}